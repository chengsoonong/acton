{
 "cells": [
  {
   "cell_type": "markdown",
   "metadata": {},
   "source": [
    "## PRESCAL Updating Design\n",
    "\n",
    "Original work: https://github.com/dongwookim-ml/almc  \n",
    "Paper: https://arxiv.org/pdf/1608.05921.pdf\n",
    "\n",
    "To speed up the algorithm, we re-design the updating steps.\n",
    "\n",
    "We consider:\n",
    "\n",
    "1. We might do not need to update posteriors for all entities and relations.\n",
    "\n",
    "2. For a sequential updating algorithm (Thompson sampling), it doesn't make sense to use all observed labels in each iteration. i.e.\n",
    "\n",
    "$$P_t = l({x}_t) P_{t-1}$$\n",
    "where $x_t$ is the label observed in $t^{th}$ iteration.\n",
    "\n",
    "Based on the above consideration, we come up with the following design ideas:\n",
    "\n",
    "### Design 1\n",
    "\n",
    "Assume we observe $x_{ijk}$ in $t^{th}$ iteration, we only update the posterior of $e_i, e_j, r_k$ using the new label $x_{ijk}$.\n",
    "\n",
    "$\\textbf{Prior}$:\n",
    "\n",
    "$$P(\\mathbf{e_i}|\\sigma_e) = \\mathcal{N}(\\mathbf{e_i}| \\mathbf{u_e}, {\\sigma_e}^2 I_D)$$\n",
    "$$P(\\mathbf{R_k}|\\sigma_r) = \\mathcal{MN}(\\mathbf{R_k}| \\mathbf{u_r}, {\\sigma_r} I_D, {\\sigma_r} I_D)$$\n",
    "or eqivalently,\n",
    "$$P(\\mathbf{r_k}|\\sigma_r) = \\mathcal{N}(\\mathbf{r_k}| \\mathbf{u_r}, {\\sigma_r}^2 I_{D^2})$$\n",
    "where $r_k = vec(R_k) \\in \\mathcal{R}^{D^2,1}$\n",
    "\n",
    "$\\textbf{Likelihood}$:\n",
    "\n",
    "$$p(x_{ikj}|\\mathbf{e_i, e_j}, R_k) = \\mathcal{N}(x_{ikj}| \\mathbf{e_i}^T R_k \\mathbf{e_j}, \\sigma_x^2)$$\n",
    "using the identity $\\mathbf{e_i}^T R_k \\mathbf{e_j} = r_k^T \\mathbf{e_i} \\otimes \\mathbf{e_j}$,\n",
    "$$p(x_{ikj}|\\mathbf{e_i, e_j, r_k}) = \\mathcal{N}(x_{ikj}| \\mathbf{r_k}^T \\mathbf{e_i} \\otimes \\mathbf{e_j}, \\sigma_x^2)$$\n",
    "\n",
    "$\\textbf{Entity Posterior}$:\n",
    "\n",
    "$$P(\\mathbf{e_i}|x_{ikj}, \\mathbf{e_j}, R_k, \\sigma_e) = \\mathcal{N}(\\mathbf{e_i}| m_{eN}, s_{eN}) \\propto P(\\mathbf{e_i}|\\sigma_e)P(x_{ikj}|\\mathbf{e_i, e_j}, R_k) = \\mathcal{N}(\\mathbf{e_i}| \\mathbf{u_e}, {\\sigma_e}^2 I_D) \\mathcal{N}(x_{ikj}| \\mathbf{e_i}^T R_k \\mathbf{e_j}, \\sigma_x^2)$$\n",
    "\n",
    "We know for $c \\mathcal{N}(\\mathbf{x|c, C}) = \\mathcal{N}(\\mathbf{x|a, A})\\mathcal{N}(\\mathbf{x|b, B})$, \n",
    "\n",
    "\\begin{equation}\n",
    "\\mathbf{C = {(A^{-1} + B ^{-1)})}^{-1}}\n",
    "\\end{equation}\n",
    "$$\\mathbf{c = C(A^{-1}a + B^{-1}b)}$$"
   ]
  },
  {
   "cell_type": "markdown",
   "metadata": {},
   "source": [
    "So the goal is to transform $\\mathcal{N}(x_{ikj}| r_k^T \\mathbf{e_i} \\otimes \\mathbf{e_j}, \\sigma_x^2)$ into $\\mathcal{N}(\\mathbf{e_i}|  M x_{ikj}, \\sigma_x^2 MM^T)$"
   ]
  },
  {
   "cell_type": "markdown",
   "metadata": {},
   "source": [
    "Assume $R_k \\mathbf{e_j}$ is column full rank,\n",
    "$$x_{ikj} = \\mathbf{e_i^T}R_k\\mathbf{e_j} \\Leftrightarrow \\mathbf{e_i} = (R_k \\mathbf{e_j})^{-T}x_{ikj}$$"
   ]
  },
  {
   "cell_type": "markdown",
   "metadata": {},
   "source": [
    "$$\\mathcal{N}(\\mathbf{e_i}|  M x_{ikj}, \\sigma_x^2 MM^T) = \\mathcal{N}(\\mathbf{e_i}| (R_k \\mathbf{e_j})^{-T}x_{ikj}, \\sigma_x^2 ((R_k \\mathbf{e_j})(R_k \\mathbf{e_j})^T)^{-1})$$"
   ]
  },
  {
   "cell_type": "markdown",
   "metadata": {},
   "source": [
    "$$s_{eN} = (\\sigma_e^{-2} I_D +  \\sigma_x^{-2} (R_k \\mathbf{e_j})(R_k \\mathbf{e_j})^T)^{-1}$$"
   ]
  },
  {
   "cell_type": "markdown",
   "metadata": {},
   "source": [
    "$$m_{eN} = s_{eN} (\\sigma_e^{-2} \\mathbf{u_e} +  \\sigma_x^{-2} (R_k \\mathbf{e_j}) x_{ikj} )$$"
   ]
  },
  {
   "cell_type": "markdown",
   "metadata": {},
   "source": [
    "Similarly, assum $\\mathbf{e_i}^T R_k$ is column full rank, for $P(e_j|x_{ikj}, \\mathbf{e_i}, R_k, \\sigma_e)$ we have \n",
    "\n",
    "$$s_{eN} = (\\sigma_e^{-2} I_D +  \\sigma_x^{-2} (\\mathbf{e_i}^T R_k)^T(\\mathbf{e_i}^T R_k))^{-1}$$\n",
    "\n",
    "$$m_{eN} = s_{eN} (\\sigma_e^{-2} \\mathbf{u_e} +  \\sigma_x^{-2} (\\mathbf{e_i}^T R_k)^T x_{ikj} )$$"
   ]
  },
  {
   "cell_type": "markdown",
   "metadata": {},
   "source": [
    "$\\textbf{Relation Posterior}:$\n",
    "\n",
    "$$P(\\mathbf{r_k}|x_{ikj}, \\mathbf{e_i, e_j}, \\sigma_r) = \\mathcal{N}(\\mathbf{r_k}|m_{rN}, s_{rN}) \\propto P(\\mathbf{r_k|\\sigma_r})P(x_{ikj}|\\mathbf{e_i, e_j, r_k}) = \\mathcal{N}(\\mathbf{r_k}| \\mathbf{u_r}, {\\sigma_r}^2 I_{D^2}) \\mathcal{N}(x_{ikj}| \\mathbf{r_k}^T \\mathbf{e_i} \\otimes \\mathbf{e_j}, \\sigma_x^2)$$"
   ]
  },
  {
   "cell_type": "markdown",
   "metadata": {},
   "source": [
    "Similarly, assume $\\mathbf{e_i} \\otimes \\mathbf{e_j}$ is column full rank,\n",
    "\n",
    "$$ x_{ikj} = \\mathbf{r_k}^T \\mathbf{e_i} \\otimes \\mathbf{e_j} \\Leftrightarrow \\mathbf{r_k} = (\\mathbf{e_i} \\otimes \\mathbf{e_j}) ^{-T} x_{ikj}$$ "
   ]
  },
  {
   "cell_type": "markdown",
   "metadata": {},
   "source": [
    "$$\\mathcal{N}(\\mathbf{r_k}|M x_{ikj}, \\sigma^2 MM^T) = \\mathcal{N}(\\mathbf{r_k}| (\\mathbf{e_i} \\otimes \\mathbf{e_j}) ^{-T} x_{ikj}, \\sigma_x^{2} ((\\mathbf{e_i} \\otimes \\mathbf{e_j}) (\\mathbf{e_i} \\otimes \\mathbf{e_j}) ^T)^{-1} )$$"
   ]
  },
  {
   "cell_type": "markdown",
   "metadata": {},
   "source": [
    "$$s_{rN} = (\\sigma_r^{-2}I_D + \\sigma_x^{-2} (\\mathbf{e_i} \\otimes \\mathbf{e_j}) (\\mathbf{e_i} \\otimes \\mathbf{e_j}) ^T)^{-1}$$ "
   ]
  },
  {
   "cell_type": "markdown",
   "metadata": {},
   "source": [
    "$$m_{rN} = s_{rN}(\\sigma_r^{-2} \\mathbf{u_r} + \\sigma_x^{-2} (\\mathbf{e_i} \\otimes \\mathbf{e_j}))$$"
   ]
  },
  {
   "cell_type": "markdown",
   "metadata": {},
   "source": [
    "### Design 2\n",
    "\n"
   ]
  },
  {
   "cell_type": "code",
   "execution_count": null,
   "metadata": {},
   "outputs": [],
   "source": []
  }
 ],
 "metadata": {
  "kernelspec": {
   "display_name": "Python 3",
   "language": "python",
   "name": "python3"
  },
  "language_info": {
   "codemirror_mode": {
    "name": "ipython",
    "version": 3
   },
   "file_extension": ".py",
   "mimetype": "text/x-python",
   "name": "python",
   "nbconvert_exporter": "python",
   "pygments_lexer": "ipython3",
   "version": "3.6.5"
  }
 },
 "nbformat": 4,
 "nbformat_minor": 2
}
